{
 "cells": [
  {
   "cell_type": "markdown",
   "id": "9b6c1de4-fa24-498b-a049-100dae51262e",
   "metadata": {},
   "source": [
    "# Ejercicio Trabajo y Energía\n",
    "\n",
    ">El bloque de 8$lb$ se desliza en una ranura sin fricción que se encuentra en el plano vertical. Las rigideces de los resortes A y B unidos al bloque son $K_A=40\\frac{lb}{pie}$ y $K_B=20\\frac{lb}{pie}$. Cuando el bloque está en la posición 1, el resorte A está comprimido 0,5$pies$ y el resorte B no se deforma. Si en la posición 1 el bloque se lanza con rapidez $v_1$ hacia abajo de la ranura, encuentre el menor valor de $v_1$ que permitirá al bloque llegar a la posición 2.\n"
   ]
  },
  {
   "cell_type": "markdown",
   "id": "3acbd272-e8e7-4486-8307-68b942850d1a",
   "metadata": {},
   "source": [
    ">En primer lugar se realiza el análisis de fuerzas del bloque en cada posición, para de esta manera determinar que fuerzas realizan trabajo a lo largo de todo el sistema. \n",
    ">Para ello es necesario aclarar que la fuerza normal, no será considerada ya que en primer lugar es perpendicular al plano de referencia propuesto, por lo que no realiza ningún trabajo sobre el sistema, además existen dos fuerzas normales iguales en magnitud pero de diferente sentido, por lo que se eliminan entre sí. \n",
    "\n",
    ">DIAGRAMAS DE CUERPO LIBRE"
   ]
  },
  {
   "cell_type": "markdown",
   "id": "a92b66d8-33ee-4ebb-b997-afcc33016004",
   "metadata": {},
   "source": [
    ">Para resolver el ejercicio, trabajamos con el principio de trabajo, que nos indica: $$U_{1-2}=\\Delta{T}$$\n",
    "\n",
    ">Ecuación que relaciona la energía del sistema, con la variación de trabajo. Por lo tanto, analizando el ejercicio, tenemos:\n",
    "\n",
    "$$U_{1-2}=T_2 - T_1$$\n",
    "\n",
    ">Ya que el trabajo final del sistema sería cero, porque este llega a esta posición con una rapidéz $v_2=0\\frac{pies}{s}$ y no tiene altura tomando como consideración, que el piso se encuentra en dicha posición. Por lo tanto:\n",
    "\n",
    "$$U_{1-2}=-T_1$$\n",
    "\n",
    ">En la posición 1 analizamos el trabajo, que en este caso sería el producido por la velocidad con la que va a salir disparado. Reemplazando, obtenemos:\n",
    "\n",
    "$$U_{1-2}=-\\frac{1}{2}mv_1^2$$"
   ]
  },
  {
   "cell_type": "markdown",
   "id": "570a94d6-d0b4-4501-9856-d1a4850d7a64",
   "metadata": {},
   "source": [
    ">Se realiza un anáisis del trabajo que realiza cada fuerza determinada en el diagrama de cuerpo libre, que actua en todo el sistema. \n",
    ">Empezamos con el trabajo que realiza el resorte A, tomando las consideraciones para que una fuerza realice trabajo sobre un cuerpo. \n",
    ">Por lo tanto:\n",
    "\n",
    "$${U_{1-2}}_{F_A}=\\int_{1}^{2}F_A cos(\\bar{1}) dx$$\n",
    "\n",
    ">Usando la consideración encontrada anteriormente, reemplazamos el valor del $d_{x_A}$ en la integral\n",
    "\n",
    "$${U_{1-2}}_{F_A}=-K_A\\int_{1}^{2}x_A d_{x_A}$$\n",
    "\n",
    "$${U_{1-2}}_{F_A}=-\\frac{K_A}{2} {x_A}^2$$\n",
    "\n",
    ">Para evaluar los valores en la ecuación consideramos las siguientes deformaciones ${x_{A_1}}=0.5pies$ y ${x_{B_1}}=1pie$\n",
    "\n",
    ">Evaluamos la integral en ambas posiciones:\n",
    "\n",
    "$${U_{1-2}}_{F_A}=-\\frac{40}{2} ({1}^2-{0.5}^2)$$\n",
    "\n",
    "$${U_{1-2}}_{F_A}=-15 J$$\n",
    "\n",
    ">Ahora calculamos el trabajo realizado por el resorte B:\n",
    "\n",
    "$${U_{1-2}}_{F_B}=\\int_{1}^{2}F_B dx$$\n",
    "\n",
    ">Usando la consideración encontrada anteriormente, reemplazamos el valor del $d_{x_B}$ en la integral\n",
    "\n",
    "$${U_{1-2}}_{F_B}=-K_B\\int_{1}^{2}x_B d_{x_B}$$\n",
    "\n",
    "$${U_{1-2}}_{F_B}=-\\frac{K_B}{2} {x_B}^2$$\n",
    "\n",
    ">Para evaluar los valores en la ecuación consideramos las siguientes deformaciones ${x_{B_1}}=0pies$ y ${x_{B_1}}=2.5pie$\n",
    "\n",
    ">Evaluamos la integral en ambas posiciones:\n",
    "\n",
    "$${U_{1-2}}_{F_B}=-\\frac{20}{2} ({2.5}^2-{0}^2)$$\n",
    "\n",
    "$${U_{1-2}}_{F_B}=-62.5 J$$\n",
    "\n",
    ">Otro trabajo presente en el sistema es el realizado por el peso, que se calcula a partir de la siguiente fórrmula: \n",
    "\n",
    "$${U_{1-2}}_{W}= W \\Delta{h}$$\n",
    "\n",
    "$${U_{1-2}}_{W}=(8)(1.5)$$\n",
    "\n",
    "$${U_{1-2}}_{W}= 12 J$$"
   ]
  },
  {
   "cell_type": "markdown",
   "id": "3fd49a01-da52-4969-ba1c-655d5a9a855b",
   "metadata": {},
   "source": [
    ">Ahora podemos encontrar el trabajo total que actúa sobre todo el sistema: \n",
    "\n",
    "$$U_{1-2}= -15-62.5+12$$\n",
    "\n",
    "$$U_{1-2}= -65.5 J$$\n",
    "\n",
    ">Utilizando la relación del principio de trabajo analizada anteriormente, tenemos lo siguiente: \n",
    "\n",
    "$$U_{1-2}=-T_1$$\n",
    "\n",
    "$$-65.5=-\\frac{1}{2} mv_1^2$$\n",
    "\n",
    ">Para utilizar los valores de dato, realizamos la siguiente conversión:\n",
    "\n",
    "$$ m=\\frac{8}{32.2} slug$$\n",
    "\n",
    ">Reemplazamos todos los datos:\n",
    "\n",
    "$$v_1=\\sqrt{(2)(65.5)(\\frac{32,2}{8})}$$\n",
    "\n",
    "$$v_1=22,96 \\frac{pies}{s}$$"
   ]
  },
  {
   "cell_type": "code",
   "execution_count": null,
   "id": "4187ac80-8541-4f16-8250-5ddde46d5d1c",
   "metadata": {},
   "outputs": [],
   "source": []
  }
 ],
 "metadata": {
  "kernelspec": {
   "display_name": "Python 3",
   "language": "python",
   "name": "python3"
  },
  "language_info": {
   "codemirror_mode": {
    "name": "ipython",
    "version": 3
   },
   "file_extension": ".py",
   "mimetype": "text/x-python",
   "name": "python",
   "nbconvert_exporter": "python",
   "pygments_lexer": "ipython3",
   "version": "3.8.8"
  }
 },
 "nbformat": 4,
 "nbformat_minor": 5
}
